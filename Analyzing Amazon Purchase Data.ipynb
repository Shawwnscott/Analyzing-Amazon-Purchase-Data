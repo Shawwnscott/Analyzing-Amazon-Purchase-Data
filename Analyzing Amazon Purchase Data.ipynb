{
 "cells": [
  {
   "cell_type": "code",
   "execution_count": 4,
   "id": "dd920c7e",
   "metadata": {},
   "outputs": [],
   "source": [
    "import pandas as pd\n",
    "import csv"
   ]
  },
  {
   "cell_type": "markdown",
   "id": "d75e6ccd",
   "metadata": {},
   "source": [
    "### Examine Data"
   ]
  },
  {
   "cell_type": "code",
   "execution_count": 5,
   "id": "c38027af",
   "metadata": {},
   "outputs": [],
   "source": [
    "df = pd.read_csv('Amazon Data.csv')"
   ]
  },
  {
   "cell_type": "code",
   "execution_count": 6,
   "id": "7c9a3a9d",
   "metadata": {},
   "outputs": [
    {
     "data": {
      "text/html": [
       "<div>\n",
       "<style scoped>\n",
       "    .dataframe tbody tr th:only-of-type {\n",
       "        vertical-align: middle;\n",
       "    }\n",
       "\n",
       "    .dataframe tbody tr th {\n",
       "        vertical-align: top;\n",
       "    }\n",
       "\n",
       "    .dataframe thead th {\n",
       "        text-align: right;\n",
       "    }\n",
       "</style>\n",
       "<table border=\"1\" class=\"dataframe\">\n",
       "  <thead>\n",
       "    <tr style=\"text-align: right;\">\n",
       "      <th></th>\n",
       "      <th>Order Date</th>\n",
       "      <th>Order ID</th>\n",
       "      <th>Website</th>\n",
       "      <th>Shipment Date</th>\n",
       "      <th>Subtotal</th>\n",
       "      <th>Shipping Charge</th>\n",
       "      <th>Tax Before Promotions</th>\n",
       "      <th>Total Promotions</th>\n",
       "      <th>Tax Charged</th>\n",
       "      <th>Total Charged</th>\n",
       "    </tr>\n",
       "  </thead>\n",
       "  <tbody>\n",
       "    <tr>\n",
       "      <th>0</th>\n",
       "      <td>09/09/15</td>\n",
       "      <td>115-0475778-4183462</td>\n",
       "      <td>Amazon.com</td>\n",
       "      <td>09/10/15</td>\n",
       "      <td>$40.98</td>\n",
       "      <td>$0.00</td>\n",
       "      <td>$0.00</td>\n",
       "      <td>$0.00</td>\n",
       "      <td>$0.00</td>\n",
       "      <td>$40.98</td>\n",
       "    </tr>\n",
       "    <tr>\n",
       "      <th>1</th>\n",
       "      <td>09/26/15</td>\n",
       "      <td>115-5605263-2794612</td>\n",
       "      <td>Amazon.com</td>\n",
       "      <td>09/29/15</td>\n",
       "      <td>$65.00</td>\n",
       "      <td>$0.00</td>\n",
       "      <td>$3.90</td>\n",
       "      <td>$0.00</td>\n",
       "      <td>$3.90</td>\n",
       "      <td>$68.90</td>\n",
       "    </tr>\n",
       "    <tr>\n",
       "      <th>2</th>\n",
       "      <td>10/07/15</td>\n",
       "      <td>115-6002890-8113013</td>\n",
       "      <td>Amazon.com</td>\n",
       "      <td>10/07/15</td>\n",
       "      <td>$29.98</td>\n",
       "      <td>$7.98</td>\n",
       "      <td>$0.98</td>\n",
       "      <td>$0.00</td>\n",
       "      <td>$0.98</td>\n",
       "      <td>$38.94</td>\n",
       "    </tr>\n",
       "    <tr>\n",
       "      <th>3</th>\n",
       "      <td>10/08/15</td>\n",
       "      <td>115-3671305-3470660</td>\n",
       "      <td>Amazon.com</td>\n",
       "      <td>10/08/15</td>\n",
       "      <td>$17.99</td>\n",
       "      <td>$0.00</td>\n",
       "      <td>$0.00</td>\n",
       "      <td>$0.00</td>\n",
       "      <td>$0.00</td>\n",
       "      <td>$17.99</td>\n",
       "    </tr>\n",
       "    <tr>\n",
       "      <th>4</th>\n",
       "      <td>01/07/16</td>\n",
       "      <td>110-2733596-3163448</td>\n",
       "      <td>Amazon.com</td>\n",
       "      <td>01/07/16</td>\n",
       "      <td>$29.99</td>\n",
       "      <td>$0.00</td>\n",
       "      <td>$0.00</td>\n",
       "      <td>$0.00</td>\n",
       "      <td>$0.00</td>\n",
       "      <td>$29.99</td>\n",
       "    </tr>\n",
       "  </tbody>\n",
       "</table>\n",
       "</div>"
      ],
      "text/plain": [
       "  Order Date             Order ID     Website Shipment Date Subtotal  \\\n",
       "0   09/09/15  115-0475778-4183462  Amazon.com      09/10/15   $40.98   \n",
       "1   09/26/15  115-5605263-2794612  Amazon.com      09/29/15   $65.00   \n",
       "2   10/07/15  115-6002890-8113013  Amazon.com      10/07/15   $29.98   \n",
       "3   10/08/15  115-3671305-3470660  Amazon.com      10/08/15   $17.99   \n",
       "4   01/07/16  110-2733596-3163448  Amazon.com      01/07/16   $29.99   \n",
       "\n",
       "  Shipping Charge Tax Before Promotions Total Promotions Tax Charged  \\\n",
       "0           $0.00                 $0.00            $0.00       $0.00   \n",
       "1           $0.00                 $3.90            $0.00       $3.90   \n",
       "2           $7.98                 $0.98            $0.00       $0.98   \n",
       "3           $0.00                 $0.00            $0.00       $0.00   \n",
       "4           $0.00                 $0.00            $0.00       $0.00   \n",
       "\n",
       "  Total Charged  \n",
       "0        $40.98  \n",
       "1        $68.90  \n",
       "2        $38.94  \n",
       "3        $17.99  \n",
       "4        $29.99  "
      ]
     },
     "execution_count": 6,
     "metadata": {},
     "output_type": "execute_result"
    }
   ],
   "source": [
    "df.drop(['Purchase Order Number','Shipping Address Street 2','Group Name', 'Payment Instrument Type','Ordering Customer Email','Shipping Address Name' ,'Shipping Address Street 1' ,'Shipping Address Street 2','Shipping Address City','Shipping Address State', 'Shipping Address Zip', 'Order Status',\n",
    "       'Carrier Name & Tracking Number','Buyer Name', 'Group Name'], axis=1, inplace=True)\n",
    "df.head()"
   ]
  },
  {
   "cell_type": "code",
   "execution_count": 7,
   "id": "07b2f28a",
   "metadata": {
    "scrolled": true
   },
   "outputs": [
    {
     "data": {
      "text/plain": [
       "Index(['Order Date', 'Order ID', 'Website', 'Shipment Date', 'Subtotal',\n",
       "       'Shipping Charge', 'Tax Before Promotions', 'Total Promotions',\n",
       "       'Tax Charged', 'Total Charged'],\n",
       "      dtype='object')"
      ]
     },
     "execution_count": 7,
     "metadata": {},
     "output_type": "execute_result"
    }
   ],
   "source": [
    "df.columns"
   ]
  },
  {
   "cell_type": "code",
   "execution_count": 8,
   "id": "029504d3",
   "metadata": {},
   "outputs": [
    {
     "data": {
      "text/html": [
       "<div>\n",
       "<style scoped>\n",
       "    .dataframe tbody tr th:only-of-type {\n",
       "        vertical-align: middle;\n",
       "    }\n",
       "\n",
       "    .dataframe tbody tr th {\n",
       "        vertical-align: top;\n",
       "    }\n",
       "\n",
       "    .dataframe thead th {\n",
       "        text-align: right;\n",
       "    }\n",
       "</style>\n",
       "<table border=\"1\" class=\"dataframe\">\n",
       "  <thead>\n",
       "    <tr style=\"text-align: right;\">\n",
       "      <th></th>\n",
       "      <th>Order Date</th>\n",
       "      <th>Order ID</th>\n",
       "      <th>Website</th>\n",
       "      <th>Shipment Date</th>\n",
       "      <th>Subtotal</th>\n",
       "      <th>Shipping Charge</th>\n",
       "      <th>Tax Before Promotions</th>\n",
       "      <th>Total Promotions</th>\n",
       "      <th>Tax Charged</th>\n",
       "      <th>Total Charged</th>\n",
       "    </tr>\n",
       "  </thead>\n",
       "  <tbody>\n",
       "    <tr>\n",
       "      <th>312</th>\n",
       "      <td>01/09/23</td>\n",
       "      <td>111-3974465-4905043</td>\n",
       "      <td>Amazon.com</td>\n",
       "      <td>01/10/23</td>\n",
       "      <td>$49.99</td>\n",
       "      <td>$0.00</td>\n",
       "      <td>$4.44</td>\n",
       "      <td>$0.00</td>\n",
       "      <td>$4.44</td>\n",
       "      <td>$54.43</td>\n",
       "    </tr>\n",
       "    <tr>\n",
       "      <th>313</th>\n",
       "      <td>01/11/23</td>\n",
       "      <td>112-0570037-8683435</td>\n",
       "      <td>Amazon.com</td>\n",
       "      <td>01/11/23</td>\n",
       "      <td>$6.99</td>\n",
       "      <td>$2.99</td>\n",
       "      <td>$0.49</td>\n",
       "      <td>$0.00</td>\n",
       "      <td>$0.49</td>\n",
       "      <td>$10.47</td>\n",
       "    </tr>\n",
       "    <tr>\n",
       "      <th>314</th>\n",
       "      <td>01/12/23</td>\n",
       "      <td>111-9813024-2447424</td>\n",
       "      <td>Amazon.com</td>\n",
       "      <td>01/13/23</td>\n",
       "      <td>$79.99</td>\n",
       "      <td>$0.00</td>\n",
       "      <td>$4.76</td>\n",
       "      <td>$12.00</td>\n",
       "      <td>$4.76</td>\n",
       "      <td>$72.75</td>\n",
       "    </tr>\n",
       "    <tr>\n",
       "      <th>315</th>\n",
       "      <td>01/13/23</td>\n",
       "      <td>111-3400684-9606654</td>\n",
       "      <td>Amazon.com</td>\n",
       "      <td>01/14/23</td>\n",
       "      <td>$62.47</td>\n",
       "      <td>$0.00</td>\n",
       "      <td>$4.37</td>\n",
       "      <td>$0.00</td>\n",
       "      <td>$4.37</td>\n",
       "      <td>$66.84</td>\n",
       "    </tr>\n",
       "    <tr>\n",
       "      <th>316</th>\n",
       "      <td>01/14/23</td>\n",
       "      <td>111-8607441-6817063</td>\n",
       "      <td>Amazon.com</td>\n",
       "      <td>NaN</td>\n",
       "      <td>$47.99</td>\n",
       "      <td>NaN</td>\n",
       "      <td>NaN</td>\n",
       "      <td>NaN</td>\n",
       "      <td>NaN</td>\n",
       "      <td>NaN</td>\n",
       "    </tr>\n",
       "  </tbody>\n",
       "</table>\n",
       "</div>"
      ],
      "text/plain": [
       "    Order Date             Order ID     Website Shipment Date Subtotal  \\\n",
       "312   01/09/23  111-3974465-4905043  Amazon.com      01/10/23   $49.99   \n",
       "313   01/11/23  112-0570037-8683435  Amazon.com      01/11/23    $6.99   \n",
       "314   01/12/23  111-9813024-2447424  Amazon.com      01/13/23   $79.99   \n",
       "315   01/13/23  111-3400684-9606654  Amazon.com      01/14/23   $62.47   \n",
       "316   01/14/23  111-8607441-6817063  Amazon.com           NaN   $47.99   \n",
       "\n",
       "    Shipping Charge Tax Before Promotions Total Promotions Tax Charged  \\\n",
       "312           $0.00                 $4.44            $0.00       $4.44   \n",
       "313           $2.99                 $0.49            $0.00       $0.49   \n",
       "314           $0.00                 $4.76           $12.00       $4.76   \n",
       "315           $0.00                 $4.37            $0.00       $4.37   \n",
       "316             NaN                   NaN              NaN         NaN   \n",
       "\n",
       "    Total Charged  \n",
       "312        $54.43  \n",
       "313        $10.47  \n",
       "314        $72.75  \n",
       "315        $66.84  \n",
       "316           NaN  "
      ]
     },
     "execution_count": 8,
     "metadata": {},
     "output_type": "execute_result"
    }
   ],
   "source": [
    "df.tail()"
   ]
  },
  {
   "cell_type": "code",
   "execution_count": 9,
   "id": "39a0b5e1",
   "metadata": {},
   "outputs": [
    {
     "data": {
      "text/plain": [
       "(317, 10)"
      ]
     },
     "execution_count": 9,
     "metadata": {},
     "output_type": "execute_result"
    }
   ],
   "source": [
    "df.shape"
   ]
  },
  {
   "cell_type": "code",
   "execution_count": 10,
   "id": "dda033e2",
   "metadata": {},
   "outputs": [
    {
     "data": {
      "text/html": [
       "<div>\n",
       "<style scoped>\n",
       "    .dataframe tbody tr th:only-of-type {\n",
       "        vertical-align: middle;\n",
       "    }\n",
       "\n",
       "    .dataframe tbody tr th {\n",
       "        vertical-align: top;\n",
       "    }\n",
       "\n",
       "    .dataframe thead th {\n",
       "        text-align: right;\n",
       "    }\n",
       "</style>\n",
       "<table border=\"1\" class=\"dataframe\">\n",
       "  <thead>\n",
       "    <tr style=\"text-align: right;\">\n",
       "      <th></th>\n",
       "      <th>Order Date</th>\n",
       "      <th>Order ID</th>\n",
       "      <th>Website</th>\n",
       "      <th>Shipment Date</th>\n",
       "      <th>Subtotal</th>\n",
       "      <th>Shipping Charge</th>\n",
       "      <th>Tax Before Promotions</th>\n",
       "      <th>Total Promotions</th>\n",
       "      <th>Tax Charged</th>\n",
       "      <th>Total Charged</th>\n",
       "    </tr>\n",
       "  </thead>\n",
       "  <tbody>\n",
       "    <tr>\n",
       "      <th>0</th>\n",
       "      <td>False</td>\n",
       "      <td>False</td>\n",
       "      <td>False</td>\n",
       "      <td>False</td>\n",
       "      <td>False</td>\n",
       "      <td>False</td>\n",
       "      <td>False</td>\n",
       "      <td>False</td>\n",
       "      <td>False</td>\n",
       "      <td>False</td>\n",
       "    </tr>\n",
       "    <tr>\n",
       "      <th>1</th>\n",
       "      <td>False</td>\n",
       "      <td>False</td>\n",
       "      <td>False</td>\n",
       "      <td>False</td>\n",
       "      <td>False</td>\n",
       "      <td>False</td>\n",
       "      <td>False</td>\n",
       "      <td>False</td>\n",
       "      <td>False</td>\n",
       "      <td>False</td>\n",
       "    </tr>\n",
       "    <tr>\n",
       "      <th>2</th>\n",
       "      <td>False</td>\n",
       "      <td>False</td>\n",
       "      <td>False</td>\n",
       "      <td>False</td>\n",
       "      <td>False</td>\n",
       "      <td>False</td>\n",
       "      <td>False</td>\n",
       "      <td>False</td>\n",
       "      <td>False</td>\n",
       "      <td>False</td>\n",
       "    </tr>\n",
       "    <tr>\n",
       "      <th>3</th>\n",
       "      <td>False</td>\n",
       "      <td>False</td>\n",
       "      <td>False</td>\n",
       "      <td>False</td>\n",
       "      <td>False</td>\n",
       "      <td>False</td>\n",
       "      <td>False</td>\n",
       "      <td>False</td>\n",
       "      <td>False</td>\n",
       "      <td>False</td>\n",
       "    </tr>\n",
       "    <tr>\n",
       "      <th>4</th>\n",
       "      <td>False</td>\n",
       "      <td>False</td>\n",
       "      <td>False</td>\n",
       "      <td>False</td>\n",
       "      <td>False</td>\n",
       "      <td>False</td>\n",
       "      <td>False</td>\n",
       "      <td>False</td>\n",
       "      <td>False</td>\n",
       "      <td>False</td>\n",
       "    </tr>\n",
       "    <tr>\n",
       "      <th>...</th>\n",
       "      <td>...</td>\n",
       "      <td>...</td>\n",
       "      <td>...</td>\n",
       "      <td>...</td>\n",
       "      <td>...</td>\n",
       "      <td>...</td>\n",
       "      <td>...</td>\n",
       "      <td>...</td>\n",
       "      <td>...</td>\n",
       "      <td>...</td>\n",
       "    </tr>\n",
       "    <tr>\n",
       "      <th>312</th>\n",
       "      <td>False</td>\n",
       "      <td>False</td>\n",
       "      <td>False</td>\n",
       "      <td>False</td>\n",
       "      <td>False</td>\n",
       "      <td>False</td>\n",
       "      <td>False</td>\n",
       "      <td>False</td>\n",
       "      <td>False</td>\n",
       "      <td>False</td>\n",
       "    </tr>\n",
       "    <tr>\n",
       "      <th>313</th>\n",
       "      <td>False</td>\n",
       "      <td>False</td>\n",
       "      <td>False</td>\n",
       "      <td>False</td>\n",
       "      <td>False</td>\n",
       "      <td>False</td>\n",
       "      <td>False</td>\n",
       "      <td>False</td>\n",
       "      <td>False</td>\n",
       "      <td>False</td>\n",
       "    </tr>\n",
       "    <tr>\n",
       "      <th>314</th>\n",
       "      <td>False</td>\n",
       "      <td>False</td>\n",
       "      <td>False</td>\n",
       "      <td>False</td>\n",
       "      <td>False</td>\n",
       "      <td>False</td>\n",
       "      <td>False</td>\n",
       "      <td>False</td>\n",
       "      <td>False</td>\n",
       "      <td>False</td>\n",
       "    </tr>\n",
       "    <tr>\n",
       "      <th>315</th>\n",
       "      <td>False</td>\n",
       "      <td>False</td>\n",
       "      <td>False</td>\n",
       "      <td>False</td>\n",
       "      <td>False</td>\n",
       "      <td>False</td>\n",
       "      <td>False</td>\n",
       "      <td>False</td>\n",
       "      <td>False</td>\n",
       "      <td>False</td>\n",
       "    </tr>\n",
       "    <tr>\n",
       "      <th>316</th>\n",
       "      <td>False</td>\n",
       "      <td>False</td>\n",
       "      <td>False</td>\n",
       "      <td>True</td>\n",
       "      <td>False</td>\n",
       "      <td>True</td>\n",
       "      <td>True</td>\n",
       "      <td>True</td>\n",
       "      <td>True</td>\n",
       "      <td>True</td>\n",
       "    </tr>\n",
       "  </tbody>\n",
       "</table>\n",
       "<p>317 rows × 10 columns</p>\n",
       "</div>"
      ],
      "text/plain": [
       "     Order Date  Order ID  Website  Shipment Date  Subtotal  Shipping Charge  \\\n",
       "0         False     False    False          False     False            False   \n",
       "1         False     False    False          False     False            False   \n",
       "2         False     False    False          False     False            False   \n",
       "3         False     False    False          False     False            False   \n",
       "4         False     False    False          False     False            False   \n",
       "..          ...       ...      ...            ...       ...              ...   \n",
       "312       False     False    False          False     False            False   \n",
       "313       False     False    False          False     False            False   \n",
       "314       False     False    False          False     False            False   \n",
       "315       False     False    False          False     False            False   \n",
       "316       False     False    False           True     False             True   \n",
       "\n",
       "     Tax Before Promotions  Total Promotions  Tax Charged  Total Charged  \n",
       "0                    False             False        False          False  \n",
       "1                    False             False        False          False  \n",
       "2                    False             False        False          False  \n",
       "3                    False             False        False          False  \n",
       "4                    False             False        False          False  \n",
       "..                     ...               ...          ...            ...  \n",
       "312                  False             False        False          False  \n",
       "313                  False             False        False          False  \n",
       "314                  False             False        False          False  \n",
       "315                  False             False        False          False  \n",
       "316                   True              True         True           True  \n",
       "\n",
       "[317 rows x 10 columns]"
      ]
     },
     "execution_count": 10,
     "metadata": {},
     "output_type": "execute_result"
    }
   ],
   "source": [
    "df.isnull()"
   ]
  },
  {
   "cell_type": "code",
   "execution_count": 11,
   "id": "4b267c09",
   "metadata": {},
   "outputs": [
    {
     "data": {
      "text/plain": [
       "Order Date               0\n",
       "Order ID                 0\n",
       "Website                  0\n",
       "Shipment Date            1\n",
       "Subtotal                 0\n",
       "Shipping Charge          1\n",
       "Tax Before Promotions    1\n",
       "Total Promotions         1\n",
       "Tax Charged              1\n",
       "Total Charged            1\n",
       "dtype: int64"
      ]
     },
     "execution_count": 11,
     "metadata": {},
     "output_type": "execute_result"
    }
   ],
   "source": [
    "df.isna().sum()"
   ]
  },
  {
   "cell_type": "code",
   "execution_count": 12,
   "id": "5b85669d",
   "metadata": {},
   "outputs": [
    {
     "data": {
      "text/plain": [
       "Order Date               object\n",
       "Order ID                 object\n",
       "Website                  object\n",
       "Shipment Date            object\n",
       "Subtotal                 object\n",
       "Shipping Charge          object\n",
       "Tax Before Promotions    object\n",
       "Total Promotions         object\n",
       "Tax Charged              object\n",
       "Total Charged            object\n",
       "dtype: object"
      ]
     },
     "execution_count": 12,
     "metadata": {},
     "output_type": "execute_result"
    }
   ],
   "source": [
    "df.dtypes"
   ]
  },
  {
   "cell_type": "code",
   "execution_count": null,
   "id": "b79c0562",
   "metadata": {},
   "outputs": [],
   "source": []
  },
  {
   "cell_type": "code",
   "execution_count": null,
   "id": "92b89f63",
   "metadata": {},
   "outputs": [],
   "source": []
  },
  {
   "cell_type": "markdown",
   "id": "03a8e88d",
   "metadata": {},
   "source": [
    "### Clean Data"
   ]
  },
  {
   "cell_type": "code",
   "execution_count": 13,
   "id": "3f6d36a4",
   "metadata": {},
   "outputs": [
    {
     "data": {
      "text/html": [
       "<div>\n",
       "<style scoped>\n",
       "    .dataframe tbody tr th:only-of-type {\n",
       "        vertical-align: middle;\n",
       "    }\n",
       "\n",
       "    .dataframe tbody tr th {\n",
       "        vertical-align: top;\n",
       "    }\n",
       "\n",
       "    .dataframe thead th {\n",
       "        text-align: right;\n",
       "    }\n",
       "</style>\n",
       "<table border=\"1\" class=\"dataframe\">\n",
       "  <thead>\n",
       "    <tr style=\"text-align: right;\">\n",
       "      <th></th>\n",
       "      <th>Order Date</th>\n",
       "      <th>Order ID</th>\n",
       "      <th>Website</th>\n",
       "      <th>Shipment Date</th>\n",
       "      <th>Subtotal</th>\n",
       "      <th>Shipping Charge</th>\n",
       "      <th>Tax Before Promotions</th>\n",
       "      <th>Total Promotions</th>\n",
       "      <th>Tax Charged</th>\n",
       "      <th>Total Charged</th>\n",
       "    </tr>\n",
       "  </thead>\n",
       "  <tbody>\n",
       "    <tr>\n",
       "      <th>312</th>\n",
       "      <td>01/09/23</td>\n",
       "      <td>111-3974465-4905043</td>\n",
       "      <td>Amazon.com</td>\n",
       "      <td>01/10/23</td>\n",
       "      <td>$49.99</td>\n",
       "      <td>$0.00</td>\n",
       "      <td>$4.44</td>\n",
       "      <td>$0.00</td>\n",
       "      <td>$4.44</td>\n",
       "      <td>$54.43</td>\n",
       "    </tr>\n",
       "    <tr>\n",
       "      <th>313</th>\n",
       "      <td>01/11/23</td>\n",
       "      <td>112-0570037-8683435</td>\n",
       "      <td>Amazon.com</td>\n",
       "      <td>01/11/23</td>\n",
       "      <td>$6.99</td>\n",
       "      <td>$2.99</td>\n",
       "      <td>$0.49</td>\n",
       "      <td>$0.00</td>\n",
       "      <td>$0.49</td>\n",
       "      <td>$10.47</td>\n",
       "    </tr>\n",
       "    <tr>\n",
       "      <th>314</th>\n",
       "      <td>01/12/23</td>\n",
       "      <td>111-9813024-2447424</td>\n",
       "      <td>Amazon.com</td>\n",
       "      <td>01/13/23</td>\n",
       "      <td>$79.99</td>\n",
       "      <td>$0.00</td>\n",
       "      <td>$4.76</td>\n",
       "      <td>$12.00</td>\n",
       "      <td>$4.76</td>\n",
       "      <td>$72.75</td>\n",
       "    </tr>\n",
       "    <tr>\n",
       "      <th>315</th>\n",
       "      <td>01/13/23</td>\n",
       "      <td>111-3400684-9606654</td>\n",
       "      <td>Amazon.com</td>\n",
       "      <td>01/14/23</td>\n",
       "      <td>$62.47</td>\n",
       "      <td>$0.00</td>\n",
       "      <td>$4.37</td>\n",
       "      <td>$0.00</td>\n",
       "      <td>$4.37</td>\n",
       "      <td>$66.84</td>\n",
       "    </tr>\n",
       "    <tr>\n",
       "      <th>316</th>\n",
       "      <td>01/14/23</td>\n",
       "      <td>111-8607441-6817063</td>\n",
       "      <td>Amazon.com</td>\n",
       "      <td>0</td>\n",
       "      <td>$47.99</td>\n",
       "      <td>0</td>\n",
       "      <td>0</td>\n",
       "      <td>0</td>\n",
       "      <td>0</td>\n",
       "      <td>0</td>\n",
       "    </tr>\n",
       "  </tbody>\n",
       "</table>\n",
       "</div>"
      ],
      "text/plain": [
       "    Order Date             Order ID     Website Shipment Date Subtotal  \\\n",
       "312   01/09/23  111-3974465-4905043  Amazon.com      01/10/23   $49.99   \n",
       "313   01/11/23  112-0570037-8683435  Amazon.com      01/11/23    $6.99   \n",
       "314   01/12/23  111-9813024-2447424  Amazon.com      01/13/23   $79.99   \n",
       "315   01/13/23  111-3400684-9606654  Amazon.com      01/14/23   $62.47   \n",
       "316   01/14/23  111-8607441-6817063  Amazon.com             0   $47.99   \n",
       "\n",
       "    Shipping Charge Tax Before Promotions Total Promotions Tax Charged  \\\n",
       "312           $0.00                 $4.44            $0.00       $4.44   \n",
       "313           $2.99                 $0.49            $0.00       $0.49   \n",
       "314           $0.00                 $4.76           $12.00       $4.76   \n",
       "315           $0.00                 $4.37            $0.00       $4.37   \n",
       "316               0                     0                0           0   \n",
       "\n",
       "    Total Charged  \n",
       "312        $54.43  \n",
       "313        $10.47  \n",
       "314        $72.75  \n",
       "315        $66.84  \n",
       "316             0  "
      ]
     },
     "execution_count": 13,
     "metadata": {},
     "output_type": "execute_result"
    }
   ],
   "source": [
    "df = df.fillna(0)\n",
    "df.tail()"
   ]
  },
  {
   "cell_type": "code",
   "execution_count": 14,
   "id": "c9711c09",
   "metadata": {},
   "outputs": [
    {
     "data": {
      "text/html": [
       "<div>\n",
       "<style scoped>\n",
       "    .dataframe tbody tr th:only-of-type {\n",
       "        vertical-align: middle;\n",
       "    }\n",
       "\n",
       "    .dataframe tbody tr th {\n",
       "        vertical-align: top;\n",
       "    }\n",
       "\n",
       "    .dataframe thead th {\n",
       "        text-align: right;\n",
       "    }\n",
       "</style>\n",
       "<table border=\"1\" class=\"dataframe\">\n",
       "  <thead>\n",
       "    <tr style=\"text-align: right;\">\n",
       "      <th></th>\n",
       "      <th>Order Date</th>\n",
       "      <th>Order ID</th>\n",
       "      <th>Website</th>\n",
       "      <th>Shipment Date</th>\n",
       "      <th>Subtotal</th>\n",
       "      <th>Shipping Charge</th>\n",
       "      <th>Tax Before Promotions</th>\n",
       "      <th>Total Promotions</th>\n",
       "      <th>Tax Charged</th>\n",
       "      <th>Total Charged</th>\n",
       "    </tr>\n",
       "  </thead>\n",
       "  <tbody>\n",
       "    <tr>\n",
       "      <th>312</th>\n",
       "      <td>01/09/23</td>\n",
       "      <td>111-3974465-4905043</td>\n",
       "      <td>Amazon.com</td>\n",
       "      <td>01/10/23</td>\n",
       "      <td>49.99</td>\n",
       "      <td>0.00</td>\n",
       "      <td>4.44</td>\n",
       "      <td>0.0</td>\n",
       "      <td>4.44</td>\n",
       "      <td>54.43</td>\n",
       "    </tr>\n",
       "    <tr>\n",
       "      <th>313</th>\n",
       "      <td>01/11/23</td>\n",
       "      <td>112-0570037-8683435</td>\n",
       "      <td>Amazon.com</td>\n",
       "      <td>01/11/23</td>\n",
       "      <td>6.99</td>\n",
       "      <td>2.99</td>\n",
       "      <td>0.49</td>\n",
       "      <td>0.0</td>\n",
       "      <td>0.49</td>\n",
       "      <td>10.47</td>\n",
       "    </tr>\n",
       "    <tr>\n",
       "      <th>314</th>\n",
       "      <td>01/12/23</td>\n",
       "      <td>111-9813024-2447424</td>\n",
       "      <td>Amazon.com</td>\n",
       "      <td>01/13/23</td>\n",
       "      <td>79.99</td>\n",
       "      <td>0.00</td>\n",
       "      <td>4.76</td>\n",
       "      <td>12.0</td>\n",
       "      <td>4.76</td>\n",
       "      <td>72.75</td>\n",
       "    </tr>\n",
       "    <tr>\n",
       "      <th>315</th>\n",
       "      <td>01/13/23</td>\n",
       "      <td>111-3400684-9606654</td>\n",
       "      <td>Amazon.com</td>\n",
       "      <td>01/14/23</td>\n",
       "      <td>62.47</td>\n",
       "      <td>0.00</td>\n",
       "      <td>4.37</td>\n",
       "      <td>0.0</td>\n",
       "      <td>4.37</td>\n",
       "      <td>66.84</td>\n",
       "    </tr>\n",
       "    <tr>\n",
       "      <th>316</th>\n",
       "      <td>01/14/23</td>\n",
       "      <td>111-8607441-6817063</td>\n",
       "      <td>Amazon.com</td>\n",
       "      <td>0</td>\n",
       "      <td>47.99</td>\n",
       "      <td>0.00</td>\n",
       "      <td>0.00</td>\n",
       "      <td>0.0</td>\n",
       "      <td>0.00</td>\n",
       "      <td>0.00</td>\n",
       "    </tr>\n",
       "  </tbody>\n",
       "</table>\n",
       "</div>"
      ],
      "text/plain": [
       "    Order Date             Order ID     Website Shipment Date  Subtotal  \\\n",
       "312   01/09/23  111-3974465-4905043  Amazon.com      01/10/23     49.99   \n",
       "313   01/11/23  112-0570037-8683435  Amazon.com      01/11/23      6.99   \n",
       "314   01/12/23  111-9813024-2447424  Amazon.com      01/13/23     79.99   \n",
       "315   01/13/23  111-3400684-9606654  Amazon.com      01/14/23     62.47   \n",
       "316   01/14/23  111-8607441-6817063  Amazon.com             0     47.99   \n",
       "\n",
       "     Shipping Charge  Tax Before Promotions  Total Promotions  Tax Charged  \\\n",
       "312             0.00                   4.44               0.0         4.44   \n",
       "313             2.99                   0.49               0.0         0.49   \n",
       "314             0.00                   4.76              12.0         4.76   \n",
       "315             0.00                   4.37               0.0         4.37   \n",
       "316             0.00                   0.00               0.0         0.00   \n",
       "\n",
       "     Total Charged  \n",
       "312          54.43  \n",
       "313          10.47  \n",
       "314          72.75  \n",
       "315          66.84  \n",
       "316           0.00  "
      ]
     },
     "execution_count": 14,
     "metadata": {},
     "output_type": "execute_result"
    }
   ],
   "source": [
    "cols = ['Subtotal', 'Shipping Charge',\n",
    "       'Tax Before Promotions', 'Total Promotions', 'Tax Charged',\n",
    "       'Total Charged']\n",
    "\n",
    "for col in df[cols]:\n",
    "    df[col] = (df[col].astype(str).str.replace('$','', regex=True).astype(float))\n",
    "df.tail()"
   ]
  },
  {
   "cell_type": "markdown",
   "id": "ec2ca342",
   "metadata": {},
   "source": [
    "###  Calculating the Total Amount of Money Spent on Amazon"
   ]
  },
  {
   "cell_type": "code",
   "execution_count": 15,
   "id": "53d38cb8",
   "metadata": {},
   "outputs": [
    {
     "data": {
      "text/plain": [
       "14197.030000000002"
      ]
     },
     "execution_count": 15,
     "metadata": {},
     "output_type": "execute_result"
    }
   ],
   "source": [
    "df['Total Charged'].sum()"
   ]
  },
  {
   "cell_type": "code",
   "execution_count": 16,
   "id": "fd8fe355",
   "metadata": {},
   "outputs": [
    {
     "data": {
      "text/plain": [
       "44.785583596214494"
      ]
     },
     "execution_count": 16,
     "metadata": {},
     "output_type": "execute_result"
    }
   ],
   "source": [
    "df['Total Charged'].mean()"
   ]
  },
  {
   "cell_type": "code",
   "execution_count": 17,
   "id": "a3683ea2",
   "metadata": {},
   "outputs": [
    {
     "data": {
      "text/plain": [
       "24.99"
      ]
     },
     "execution_count": 17,
     "metadata": {},
     "output_type": "execute_result"
    }
   ],
   "source": [
    "df['Total Charged'].median()"
   ]
  },
  {
   "cell_type": "code",
   "execution_count": 18,
   "id": "1587d75f",
   "metadata": {},
   "outputs": [
    {
     "data": {
      "text/plain": [
       "845.39"
      ]
     },
     "execution_count": 18,
     "metadata": {},
     "output_type": "execute_result"
    }
   ],
   "source": [
    "df['Total Charged'].max()"
   ]
  },
  {
   "cell_type": "code",
   "execution_count": 19,
   "id": "be3d6fc7",
   "metadata": {
    "scrolled": true
   },
   "outputs": [
    {
     "data": {
      "text/plain": [
       "578.12"
      ]
     },
     "execution_count": 19,
     "metadata": {},
     "output_type": "execute_result"
    }
   ],
   "source": [
    "df[\"Tax Charged\"].sum()"
   ]
  },
  {
   "cell_type": "code",
   "execution_count": 20,
   "id": "2f403203",
   "metadata": {},
   "outputs": [
    {
     "data": {
      "text/plain": [
       "4.072119309461204"
      ]
     },
     "execution_count": 20,
     "metadata": {},
     "output_type": "execute_result"
    }
   ],
   "source": [
    "df[\"Tax Charged\"].sum() / df['Total Charged'].sum() * 100"
   ]
  },
  {
   "cell_type": "code",
   "execution_count": 21,
   "id": "82986959",
   "metadata": {},
   "outputs": [
    {
     "data": {
      "text/html": [
       "<div>\n",
       "<style scoped>\n",
       "    .dataframe tbody tr th:only-of-type {\n",
       "        vertical-align: middle;\n",
       "    }\n",
       "\n",
       "    .dataframe tbody tr th {\n",
       "        vertical-align: top;\n",
       "    }\n",
       "\n",
       "    .dataframe thead th {\n",
       "        text-align: right;\n",
       "    }\n",
       "</style>\n",
       "<table border=\"1\" class=\"dataframe\">\n",
       "  <thead>\n",
       "    <tr style=\"text-align: right;\">\n",
       "      <th></th>\n",
       "      <th>Order Date</th>\n",
       "      <th>Order ID</th>\n",
       "      <th>Website</th>\n",
       "      <th>Shipment Date</th>\n",
       "      <th>Subtotal</th>\n",
       "      <th>Shipping Charge</th>\n",
       "      <th>Tax Before Promotions</th>\n",
       "      <th>Total Promotions</th>\n",
       "      <th>Tax Charged</th>\n",
       "      <th>Total Charged</th>\n",
       "    </tr>\n",
       "  </thead>\n",
       "  <tbody>\n",
       "    <tr>\n",
       "      <th>0</th>\n",
       "      <td>2015-09-09</td>\n",
       "      <td>115-0475778-4183462</td>\n",
       "      <td>Amazon.com</td>\n",
       "      <td>09/10/15</td>\n",
       "      <td>40.98</td>\n",
       "      <td>0.00</td>\n",
       "      <td>0.00</td>\n",
       "      <td>0.0</td>\n",
       "      <td>0.00</td>\n",
       "      <td>40.98</td>\n",
       "    </tr>\n",
       "    <tr>\n",
       "      <th>1</th>\n",
       "      <td>2015-09-26</td>\n",
       "      <td>115-5605263-2794612</td>\n",
       "      <td>Amazon.com</td>\n",
       "      <td>09/29/15</td>\n",
       "      <td>65.00</td>\n",
       "      <td>0.00</td>\n",
       "      <td>3.90</td>\n",
       "      <td>0.0</td>\n",
       "      <td>3.90</td>\n",
       "      <td>68.90</td>\n",
       "    </tr>\n",
       "    <tr>\n",
       "      <th>2</th>\n",
       "      <td>2015-10-07</td>\n",
       "      <td>115-6002890-8113013</td>\n",
       "      <td>Amazon.com</td>\n",
       "      <td>10/07/15</td>\n",
       "      <td>29.98</td>\n",
       "      <td>7.98</td>\n",
       "      <td>0.98</td>\n",
       "      <td>0.0</td>\n",
       "      <td>0.98</td>\n",
       "      <td>38.94</td>\n",
       "    </tr>\n",
       "    <tr>\n",
       "      <th>3</th>\n",
       "      <td>2015-10-08</td>\n",
       "      <td>115-3671305-3470660</td>\n",
       "      <td>Amazon.com</td>\n",
       "      <td>10/08/15</td>\n",
       "      <td>17.99</td>\n",
       "      <td>0.00</td>\n",
       "      <td>0.00</td>\n",
       "      <td>0.0</td>\n",
       "      <td>0.00</td>\n",
       "      <td>17.99</td>\n",
       "    </tr>\n",
       "    <tr>\n",
       "      <th>4</th>\n",
       "      <td>2016-01-07</td>\n",
       "      <td>110-2733596-3163448</td>\n",
       "      <td>Amazon.com</td>\n",
       "      <td>01/07/16</td>\n",
       "      <td>29.99</td>\n",
       "      <td>0.00</td>\n",
       "      <td>0.00</td>\n",
       "      <td>0.0</td>\n",
       "      <td>0.00</td>\n",
       "      <td>29.99</td>\n",
       "    </tr>\n",
       "  </tbody>\n",
       "</table>\n",
       "</div>"
      ],
      "text/plain": [
       "  Order Date             Order ID     Website Shipment Date  Subtotal  \\\n",
       "0 2015-09-09  115-0475778-4183462  Amazon.com      09/10/15     40.98   \n",
       "1 2015-09-26  115-5605263-2794612  Amazon.com      09/29/15     65.00   \n",
       "2 2015-10-07  115-6002890-8113013  Amazon.com      10/07/15     29.98   \n",
       "3 2015-10-08  115-3671305-3470660  Amazon.com      10/08/15     17.99   \n",
       "4 2016-01-07  110-2733596-3163448  Amazon.com      01/07/16     29.99   \n",
       "\n",
       "   Shipping Charge  Tax Before Promotions  Total Promotions  Tax Charged  \\\n",
       "0             0.00                   0.00               0.0         0.00   \n",
       "1             0.00                   3.90               0.0         3.90   \n",
       "2             7.98                   0.98               0.0         0.98   \n",
       "3             0.00                   0.00               0.0         0.00   \n",
       "4             0.00                   0.00               0.0         0.00   \n",
       "\n",
       "   Total Charged  \n",
       "0          40.98  \n",
       "1          68.90  \n",
       "2          38.94  \n",
       "3          17.99  \n",
       "4          29.99  "
      ]
     },
     "execution_count": 21,
     "metadata": {},
     "output_type": "execute_result"
    }
   ],
   "source": [
    "df['Order Date'] = pd.to_datetime(df['Order Date'])\n",
    "df.head()"
   ]
  },
  {
   "cell_type": "markdown",
   "id": "a07a3de8",
   "metadata": {},
   "source": [
    "### Visualize Data"
   ]
  },
  {
   "cell_type": "code",
   "execution_count": 22,
   "id": "e698a684",
   "metadata": {},
   "outputs": [
    {
     "data": {
      "text/plain": [
       "<AxesSubplot:xlabel='Order Date'>"
      ]
     },
     "execution_count": 22,
     "metadata": {},
     "output_type": "execute_result"
    },
    {
     "data": {
      "image/png": "[encoded data removed]",
      "text/plain": [
       "<Figure size 1440x720 with 1 Axes>"
      ]
     },
     "metadata": {
      "needs_background": "light"
     },
     "output_type": "display_data"
    }
   ],
   "source": [
    "df.plot.bar(x = 'Order Date', y = 'Total Charged', rot = 90, figsize=(20,10))"
   ]
  },
  {
   "cell_type": "code",
   "execution_count": 23,
   "id": "756ba1c1",
   "metadata": {},
   "outputs": [
    {
     "data": {
      "text/plain": [
       "Order Date\n",
       "2015-09-09    40.98\n",
       "2015-09-26    68.90\n",
       "2015-10-07    38.94\n",
       "2015-10-08    17.99\n",
       "2016-01-07    29.99\n",
       "Name: Total Charged, dtype: float64"
      ]
     },
     "execution_count": 23,
     "metadata": {},
     "output_type": "execute_result"
    }
   ],
   "source": [
    "daily_orders = df.groupby('Order Date').sum()['Total Charged']\n",
    "daily_orders.head()"
   ]
  },
  {
   "cell_type": "code",
   "execution_count": 24,
   "id": "69ab7ce4",
   "metadata": {},
   "outputs": [
    {
     "data": {
      "text/plain": [
       "<AxesSubplot:xlabel='Order Date'>"
      ]
     },
     "execution_count": 24,
     "metadata": {},
     "output_type": "execute_result"
    },
    {
     "data": {
      "image/png": "[encoded data removed]",
      "text/plain": [
       "<Figure size 1440x720 with 1 Axes>"
      ]
     },
     "metadata": {
      "needs_background": "light"
     },
     "output_type": "display_data"
    }
   ],
   "source": [
    "daily_orders.plot.bar(figsize=(20,10))"
   ]
  },
  {
   "cell_type": "code",
   "execution_count": 25,
   "id": "d2b34626",
   "metadata": {},
   "outputs": [
    {
     "data": {
      "text/plain": [
       "Order Date\n",
       "2015     166.81\n",
       "2016     671.01\n",
       "2017    2578.88\n",
       "2018     970.93\n",
       "2019     382.40\n",
       "2020    2698.96\n",
       "2021    1406.03\n",
       "2022    4937.36\n",
       "2023     384.65\n",
       "Name: Total Charged, dtype: float64"
      ]
     },
     "execution_count": 25,
     "metadata": {},
     "output_type": "execute_result"
    }
   ],
   "source": [
    "yearly_orders = df.groupby(df['Order Date'].dt.year).sum()['Total Charged']\n",
    "yearly_orders"
   ]
  },
  {
   "cell_type": "code",
   "execution_count": 26,
   "id": "d62c7fd2",
   "metadata": {},
   "outputs": [
    {
     "data": {
      "text/plain": [
       "<AxesSubplot:xlabel='Order Date'>"
      ]
     },
     "execution_count": 26,
     "metadata": {},
     "output_type": "execute_result"
    },
    {
     "data": {
      "image/png": "[encoded data removed]",
      "text/plain": [
       "<Figure size 1440x720 with 1 Axes>"
      ]
     },
     "metadata": {
      "needs_background": "light"
     },
     "output_type": "display_data"
    }
   ],
   "source": [
    "yearly_orders.plot.bar(figsize=(20,10))"
   ]
  },
  {
   "cell_type": "code",
   "execution_count": null,
   "id": "2ffcedd4",
   "metadata": {},
   "outputs": [],
   "source": []
  },
  {
   "cell_type": "markdown",
   "id": "f339b072",
   "metadata": {},
   "source": [
    "### Insights"
   ]
  },
  {
   "cell_type": "markdown",
   "id": "2a574280",
   "metadata": {},
   "source": [
    "1. The Total Amount Spent on Amazon.com is **$ 14,197.03**.\n",
    "\n",
    "2. The Average Average order cost amounts to **$44.79**.\n",
    "\n",
    "3. The Median order cost amounts amounts to **$24.99**.\n",
    "\n",
    "4. The Most money spent on an order amounts to **$845.39**.\n",
    "\n",
    "5. The total spent in sales tax is **578.12**.\n",
    "\n",
    "6. Overall effective sales tax rate is **4.07%**.\n",
    "\n",
    "7. 2022 We Spent the most amount of money on amazon at **$4,937.36**\n",
    "\n",
    "8. 2015 We spent the least amount of money on amazon at **$166.81**"
   ]
  },
  {
   "cell_type": "code",
   "execution_count": null,
   "id": "3efd0b53",
   "metadata": {},
   "outputs": [],
   "source": []
  }
 ],
 "metadata": {
  "kernelspec": {
   "display_name": "Python 3 (ipykernel)",
   "language": "python",
   "name": "python3"
  },
  "language_info": {
   "codemirror_mode": {
    "name": "ipython",
    "version": 3
   },
   "file_extension": ".py",
   "mimetype": "text/x-python",
   "name": "python",
   "nbconvert_exporter": "python",
   "pygments_lexer": "ipython3",
   "version": "3.9.7"
  }
 },
 "nbformat": 4,
 "nbformat_minor": 5
}
